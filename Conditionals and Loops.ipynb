{
 "cells": [
  {
   "cell_type": "markdown",
   "metadata": {},
   "source": [
    "# Check number"
   ]
  },
  {
   "cell_type": "code",
   "execution_count": 2,
   "metadata": {},
   "outputs": [
    {
     "name": "stdout",
     "output_type": "stream",
     "text": [
      "5\n",
      "Positive\n"
     ]
    }
   ],
   "source": [
    "a=int(input())\n",
    "if a>0:\n",
    "    print(\"Positive\")\n",
    "elif a<0:\n",
    "    print(\"Negative\")\n",
    "elif a==0:\n",
    "    print(\"Zero\")"
   ]
  },
  {
   "cell_type": "markdown",
   "metadata": {},
   "source": [
    "# Sum of n numbers"
   ]
  },
  {
   "cell_type": "code",
   "execution_count": null,
   "metadata": {},
   "outputs": [],
   "source": [
    "a=int(input())\n",
    "b=1\n",
    "s=0\n",
    "while(b<=a):\n",
    "    s+=b\n",
    "    b+=1\n",
    "print(s)"
   ]
  },
  {
   "cell_type": "markdown",
   "metadata": {},
   "source": [
    "# Sum of Even Numbers"
   ]
  },
  {
   "cell_type": "code",
   "execution_count": null,
   "metadata": {},
   "outputs": [],
   "source": [
    "a=int(input())\n",
    "b=1\n",
    "s=0\n",
    "while(b<=a):\n",
    "    if b%2==0:\n",
    "        s+=b\n",
    "    b+=1\n",
    "print(s)"
   ]
  },
  {
   "cell_type": "markdown",
   "metadata": {},
   "source": [
    "# Fahrenheit to Celsius"
   ]
  },
  {
   "cell_type": "code",
   "execution_count": null,
   "metadata": {},
   "outputs": [],
   "source": [
    "a=int(input())\n",
    "b=int(input())\n",
    "c=int(input())\n",
    "while a<=b:\n",
    "    k=((a-32)*5)/9\n",
    "    k=int(k)\n",
    "    print(a,\" \",k)\n",
    "    a+=c"
   ]
  },
  {
   "cell_type": "markdown",
   "metadata": {},
   "source": [
    "# Calculator"
   ]
  },
  {
   "cell_type": "code",
   "execution_count": null,
   "metadata": {},
   "outputs": [],
   "source": [
    "\n",
    "\n",
    "while True:\n",
    "    a=int(input())    \n",
    "    if a==1:\n",
    "        d=int(input())\n",
    "        b=int(input())\n",
    "        print(d+b)\n",
    "\n",
    "    if a==2:\n",
    "        \n",
    "        x=int(input())\n",
    "        y=int(input())\n",
    "        print(x-y)\n",
    "\n",
    "    if a==3:\n",
    "        f=int(input())\n",
    "        i=int(input())\n",
    "        print(f*i)\n",
    "\n",
    "    if a==4:\n",
    "        k=int(input())\n",
    "        m=int(input())\n",
    "        print(k//m)\n",
    "\n",
    "    if a==5:\n",
    "        l=int(input())\n",
    "        o=int(input())\n",
    "        print(l%o)\n",
    "    if a>6:\n",
    "         print(\"Invalid Operation\")\n",
    "\n",
    "    if a==6:\n",
    "        break;\n",
    "       \n",
    "        \n",
    "    "
   ]
  },
  {
   "cell_type": "markdown",
   "metadata": {},
   "source": [
    "# Reverse of a number"
   ]
  },
  {
   "cell_type": "code",
   "execution_count": null,
   "metadata": {},
   "outputs": [],
   "source": [
    "a=int(input())\n",
    "s=0\n",
    "while a>0:\n",
    "    s=(s*10)+a%10\n",
    "    a//=10\n",
    "    \n",
    "print(s)\n",
    "    "
   ]
  },
  {
   "cell_type": "markdown",
   "metadata": {},
   "source": [
    "# Palindrome number"
   ]
  },
  {
   "cell_type": "code",
   "execution_count": null,
   "metadata": {},
   "outputs": [],
   "source": [
    "num = int(input())\n",
    "a=num\n",
    "s=0\n",
    "while a>0:\n",
    "    s=(s*10)+a%10\n",
    "    a//=10\n",
    "if num==s:\n",
    "    print(\"true\")\n",
    "else:\n",
    "    print(\"false\")\n",
    "\n",
    "    \n",
    "    \n",
    "\n",
    "\n"
   ]
  },
  {
   "cell_type": "markdown",
   "metadata": {},
   "source": [
    "# Sum of even & odd"
   ]
  },
  {
   "cell_type": "code",
   "execution_count": null,
   "metadata": {},
   "outputs": [],
   "source": [
    "a=int(input())\n",
    "s=0\n",
    "m=0\n",
    "while a>0:\n",
    "    n=a%10\n",
    "    if n%2==0:\n",
    "        s+=n\n",
    "    else:\n",
    "        m+=n\n",
    "    a=a//10\n",
    "print(s,m)"
   ]
  },
  {
   "cell_type": "markdown",
   "metadata": {},
   "source": [
    "# Nth Fibonacci number"
   ]
  },
  {
   "cell_type": "code",
   "execution_count": null,
   "metadata": {},
   "outputs": [],
   "source": [
    "a=int(input())\n",
    "b=0\n",
    "c=0\n",
    "x=0\n",
    "while x<a:\n",
    "    temp=b+c\n",
    "    c=b\n",
    "    b=temp\n",
    "    if x==0:\n",
    "        b=1\n",
    "    x+=1\n",
    "if a==1 or 2:\n",
    "    print(\"1\")\n",
    "else:\n",
    "    print(b+c)"
   ]
  }
 ],
 "metadata": {
  "kernelspec": {
   "display_name": "Python 3",
   "language": "python",
   "name": "python3"
  },
  "language_info": {
   "codemirror_mode": {
    "name": "ipython",
    "version": 3
   },
   "file_extension": ".py",
   "mimetype": "text/x-python",
   "name": "python",
   "nbconvert_exporter": "python",
   "pygments_lexer": "ipython3",
   "version": "3.7.4"
  }
 },
 "nbformat": 4,
 "nbformat_minor": 2
}
